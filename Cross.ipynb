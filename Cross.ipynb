{
 "cells": [
  {
   "cell_type": "code",
   "execution_count": 51,
   "metadata": {
    "collapsed": false
   },
   "outputs": [],
   "source": [
    "import numpy as np\n",
    "import tt\n",
    "import tt.cross"
   ]
  },
  {
   "cell_type": "code",
   "execution_count": 52,
   "metadata": {
    "collapsed": false
   },
   "outputs": [
    {
     "name": "stdout",
     "output_type": "stream",
     "text": [
      "swp: 0/9 er_rel = 3.1e+00 er_abs = 2.0e+02 erank = 6.0 fun_eval: 2400\n",
      "swp: 1/9 er_rel = 5.9e-01 er_abs = 4.5e+01 erank = 12.0 fun_eval: 7600\n",
      "swp: 2/9 er_rel = 5.5e-01 er_abs = 4.4e+01 erank = 20.0 fun_eval: 17200\n",
      "swp: 3/9 er_rel = 6.5e-01 er_abs = 5.7e+01 erank = 28.0 fun_eval: 31600\n",
      "swp: 4/9 er_rel = 7.1e-01 er_abs = 6.0e+01 erank = 36.0 fun_eval: 50800\n",
      "swp: 5/9 er_rel = 7.0e-01 er_abs = 6.2e+01 erank = 44.0 fun_eval: 74800\n",
      "swp: 6/9 er_rel = 7.2e-01 er_abs = 6.5e+01 erank = 52.0 fun_eval: 103600\n",
      "swp: 7/9 er_rel = 7.0e-01 er_abs = 6.2e+01 erank = 60.0 fun_eval: 137200\n",
      "swp: 8/9 er_rel = 6.6e-01 er_abs = 5.8e+01 erank = 68.0 fun_eval: 175600\n",
      "swp: 9/9 er_rel = 6.1e-01 er_abs = 5.4e+01 erank = 76.0 fun_eval: 218800\n"
     ]
    }
   ],
   "source": [
    "n_objects = 200\n",
    "n_features = 100\n",
    "matrix = np.random.rand(n_objects, n_features)\n",
    "def f(x):\n",
    "    return matrix[np.array(x[:, 0]).astype(int), np.array(x[:, 1]).astype(int)]\n",
    "x0 = tt.rand(np.array([n_objects, n_features]))\n",
    "appr = tt.cross.rect_cross(f, x0, eps=1e-1)"
   ]
  },
  {
   "cell_type": "code",
   "execution_count": 53,
   "metadata": {
    "collapsed": false
   },
   "outputs": [
    {
     "data": {
      "text/plain": [
       "0.46474584578734301"
      ]
     },
     "execution_count": 53,
     "metadata": {},
     "output_type": "execute_result"
    }
   ],
   "source": [
    "U, V = tt.tensor.to_list(appr)\n",
    "U = np.reshape(U, (n_objects, -1))\n",
    "V = np.reshape(V, (-1, n_features))\n",
    "np.linalg.norm(matrix - U.dot(V)) / np.linalg.norm(matrix)"
   ]
  },
  {
   "cell_type": "code",
   "execution_count": 62,
   "metadata": {
    "collapsed": false
   },
   "outputs": [
    {
     "data": {
      "text/plain": [
       "0.46474584578734301"
      ]
     },
     "execution_count": 62,
     "metadata": {},
     "output_type": "execute_result"
    }
   ],
   "source": [
    "[Q,R] = np.linalg.qr(V.T)\n",
    "U, V = U.dot(R.T), Q.T\n",
    "np.linalg.norm(matrix - U.dot(V)) / np.linalg.norm(matrix)"
   ]
  },
  {
   "cell_type": "code",
   "execution_count": 68,
   "metadata": {
    "collapsed": false
   },
   "outputs": [
    {
     "name": "stdout",
     "output_type": "stream",
     "text": [
      "[ 78  99  64  59 130  52 127  51  43 106  31  61 167  93  12 137 165  32\n",
      " 189  67  96 122 101 158 153  75  91 164  82 159 135   0  20 109   2  94\n",
      " 138   8 100  69  85 182 195 115  68   9  27  15 171  77  98  18  37 185\n",
      " 178 172  36 141   4  95 119 199  81 116  24 170  74  21 117 136  65  56\n",
      "   1  66  92 131]\n"
     ]
    }
   ],
   "source": [
    "good_obj_idx = tt.maxvol.maxvol(U)\n",
    "print good_obj_idx"
   ]
  },
  {
   "cell_type": "code",
   "execution_count": null,
   "metadata": {
    "collapsed": true
   },
   "outputs": [],
   "source": []
  }
 ],
 "metadata": {
  "kernelspec": {
   "display_name": "Python 2",
   "language": "python",
   "name": "python2"
  },
  "language_info": {
   "codemirror_mode": {
    "name": "ipython",
    "version": 2
   },
   "file_extension": ".py",
   "mimetype": "text/x-python",
   "name": "python",
   "nbconvert_exporter": "python",
   "pygments_lexer": "ipython2",
   "version": "2.7.10"
  }
 },
 "nbformat": 4,
 "nbformat_minor": 0
}
