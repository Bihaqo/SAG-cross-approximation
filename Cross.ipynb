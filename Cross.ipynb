{
 "cells": [
  {
   "cell_type": "code",
   "execution_count": 3,
   "metadata": {
    "collapsed": false
   },
   "outputs": [],
   "source": [
    "import numpy as np\n",
    "import tt\n",
    "import tt.cross"
   ]
  },
  {
   "cell_type": "code",
   "execution_count": 44,
   "metadata": {
    "collapsed": false
   },
   "outputs": [
    {
     "name": "stdout",
     "output_type": "stream",
     "text": [
      "swp: 0/9 er_rel = 3.0e+00 er_abs = 2.0e+02 erank = 6.0 fun_eval: 2400\n",
      "swp: 1/9 er_rel = 5.8e-01 er_abs = 4.6e+01 erank = 14.0 fun_eval: 8400\n",
      "swp: 2/9 er_rel = 6.4e-01 er_abs = 5.2e+01 erank = 22.0 fun_eval: 19200\n",
      "swp: 3/9 er_rel = 7.0e-01 er_abs = 5.9e+01 erank = 30.0 fun_eval: 34800\n",
      "swp: 4/9 er_rel = 7.2e-01 er_abs = 6.3e+01 erank = 38.0 fun_eval: 55200\n",
      "swp: 5/9 er_rel = 7.4e-01 er_abs = 6.5e+01 erank = 46.0 fun_eval: 80400\n",
      "swp: 6/9 er_rel = 6.9e-01 er_abs = 6.1e+01 erank = 54.0 fun_eval: 110400\n",
      "swp: 7/9 er_rel = 6.5e-01 er_abs = 5.7e+01 erank = 62.0 fun_eval: 145200\n",
      "swp: 8/9 er_rel = 6.5e-01 er_abs = 5.7e+01 erank = 70.0 fun_eval: 184800\n",
      "swp: 9/9 er_rel = 5.8e-01 er_abs = 4.9e+01 erank = 78.0 fun_eval: 229200\n"
     ]
    }
   ],
   "source": [
    "n_objects = 200\n",
    "n_features = 100\n",
    "matrix = np.random.rand(n_objects, n_features)\n",
    "def f(x):\n",
    "    return matrix[np.array(x[:, 0]).astype(int), np.array(x[:, 1]).astype(int)]\n",
    "x0 = tt.rand(np.array([n_objects, n_features]))\n",
    "appr = tt.cross.rect_cross(f, x0, eps=1e-1)"
   ]
  },
  {
   "cell_type": "code",
   "execution_count": 50,
   "metadata": {
    "collapsed": false
   },
   "outputs": [
    {
     "data": {
      "text/plain": [
       "0.41037125285126641"
      ]
     },
     "execution_count": 50,
     "metadata": {},
     "output_type": "execute_result"
    }
   ],
   "source": [
    "U, V = tt.tensor.to_list(appr)\n",
    "U = np.reshape(U, (n_objects, -1))\n",
    "V = np.reshape(V, (-1, n_features))\n",
    "np.linalg.norm(matrix - U.dot(V)) / np.linalg.norm(matrix)"
   ]
  },
  {
   "cell_type": "code",
   "execution_count": null,
   "metadata": {
    "collapsed": true
   },
   "outputs": [],
   "source": []
  }
 ],
 "metadata": {
  "kernelspec": {
   "display_name": "Python 2",
   "language": "python",
   "name": "python2"
  },
  "language_info": {
   "codemirror_mode": {
    "name": "ipython",
    "version": 2
   },
   "file_extension": ".py",
   "mimetype": "text/x-python",
   "name": "python",
   "nbconvert_exporter": "python",
   "pygments_lexer": "ipython2",
   "version": "2.7.10"
  }
 },
 "nbformat": 4,
 "nbformat_minor": 0
}
