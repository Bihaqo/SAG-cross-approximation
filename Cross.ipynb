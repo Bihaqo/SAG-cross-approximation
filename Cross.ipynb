{
 "cells": [
  {
   "cell_type": "code",
   "execution_count": 1,
   "metadata": {
    "collapsed": false
   },
   "outputs": [
    {
     "name": "stdout",
     "output_type": "stream",
     "text": [
      "warning: fast C maxvol functions are not compiled, continue with python maxvol functions\n"
     ]
    }
   ],
   "source": [
    "import numpy as np\n",
    "import tt\n",
    "import cross"
   ]
  },
  {
   "cell_type": "code",
   "execution_count": 2,
   "metadata": {
    "collapsed": false
   },
   "outputs": [
    {
     "name": "stdout",
     "output_type": "stream",
     "text": [
      "c = <cross.rectcross.rect_cross.tt_as_tree instance at 0x107f2a170>\n",
      "swp: 0/9 er_rel = 1.8e+00 er_abs = 7.8e+00 erank = 5.0 fun_eval: 110\n",
      "swp: 1/9 er_rel = 3.9e-16 er_abs = 1.7e-15 erank = 5.0 fun_eval: 280\n"
     ]
    }
   ],
   "source": [
    "n_objects = 10\n",
    "n_features = 5\n",
    "\n",
    "np.random.seed(12311)\n",
    "\n",
    "matrix = np.random.rand(n_objects, n_features)\n",
    "def f(x):\n",
    "    return matrix[np.array(x[:, 0]).astype(int), np.array(x[:, 1]).astype(int)]\n",
    "x0 = tt.rand(np.array([n_objects, n_features]))\n",
    "appr, c = cross.rect_cross(f, x0, eps=1e-1)"
   ]
  },
  {
   "cell_type": "code",
   "execution_count": 3,
   "metadata": {
    "collapsed": false
   },
   "outputs": [
    {
     "data": {
      "text/plain": [
       "0.26884112137751143"
      ]
     },
     "execution_count": 3,
     "metadata": {},
     "output_type": "execute_result"
    }
   ],
   "source": [
    "U, V = tt.tensor.to_list(appr)\n",
    "U = np.reshape(U, (n_objects, -1))\n",
    "V = np.reshape(V, (-1, n_features))\n",
    "np.linalg.norm(matrix - U.dot(V)) / np.linalg.norm(matrix)"
   ]
  },
  {
   "cell_type": "code",
   "execution_count": 4,
   "metadata": {
    "collapsed": false,
    "scrolled": false
   },
   "outputs": [
    {
     "name": "stdout",
     "output_type": "stream",
     "text": [
      "(10, 5)\n",
      "(5, 5)\n",
      "c.d = 2\n",
      "core:  [[[ 0.80801337  0.68196812  0.93473676  0.71093448  0.43093641]\n",
      "  [ 0.3756882   0.10352622  0.09778394  0.08499976  0.97707096]\n",
      "  [ 0.19609705  0.85776473  0.95815499  0.19799744  0.85076136]\n",
      "  [ 0.46640267  0.74177757  0.02175077  0.81157669  0.23294072]\n",
      "  [ 0.88217521  0.43499265  0.65189397  0.32324087  0.75234721]\n",
      "  [ 1.10086357  0.01202627  0.22425028  0.54393827  0.03847676]\n",
      "  [ 0.20558081  0.85486469  0.94425239  0.44559461  0.86403808]\n",
      "  [ 0.21098111  0.37786512  0.37037598  0.5874963   0.07997381]\n",
      "  [ 1.06982277  0.04855144  0.81287823  0.52573     0.56210551]\n",
      "  [ 0.41533016  0.95405802  0.36296657  0.47987442  0.54121384]]]\n",
      "______________________\n",
      "ind_left:\n",
      "[] \n",
      "\n",
      "ind_right:\n",
      "[[1 4]\n",
      " [6 1]\n",
      " [2 4]] \n",
      "\n",
      "______________________\n",
      "ind_left:\n",
      "[[6]\n",
      " [5]\n",
      " [1]\n",
      " [3]\n",
      " [7]\n",
      " [8]\n",
      " [9]] \n",
      "\n",
      "ind_right:\n",
      "[[0]\n",
      " [1]\n",
      " [2]\n",
      " [3]\n",
      " [4]] \n",
      "\n",
      "core:  [[[ 1.]\n",
      "  [ 0.]\n",
      "  [ 0.]\n",
      "  [ 0.]\n",
      "  [ 0.]]\n",
      "\n",
      " [[ 0.]\n",
      "  [ 1.]\n",
      "  [ 0.]\n",
      "  [ 0.]\n",
      "  [ 0.]]\n",
      "\n",
      " [[ 0.]\n",
      "  [ 0.]\n",
      "  [ 1.]\n",
      "  [ 0.]\n",
      "  [ 0.]]\n",
      "\n",
      " [[ 0.]\n",
      "  [ 0.]\n",
      "  [ 0.]\n",
      "  [ 1.]\n",
      "  [ 0.]]\n",
      "\n",
      " [[ 0.]\n",
      "  [ 0.]\n",
      "  [ 0.]\n",
      "  [ 0.]\n",
      "  [ 1.]]]\n",
      "______________________\n",
      "ind_left:\n",
      "[[6]\n",
      " [5]\n",
      " [1]\n",
      " [3]\n",
      " [7]\n",
      " [8]\n",
      " [9]] \n",
      "\n",
      "ind_right:\n",
      "[[0]\n",
      " [1]\n",
      " [2]\n",
      " [3]\n",
      " [4]] \n",
      "\n",
      "______________________\n",
      "ind_left:\n",
      "[[1 4]\n",
      " [6 1]\n",
      " [5 0]] \n",
      "\n",
      "ind_right:\n",
      "[] \n",
      "\n"
     ]
    }
   ],
   "source": [
    "print U.shape\n",
    "print V.shape\n",
    "print \"c.d =\", c.d\n",
    "\n",
    "for node in c.nodes:\n",
    "    print \"core: \", node.core\n",
    "    for edge in node.edges:\n",
    "        print \"______________________\"\n",
    "        print \"ind_left:\\n\", edge.ind_left, \"\\n\"\n",
    "        print \"ind_right:\\n\", edge.ind_right, \"\\n\""
   ]
  },
  {
   "cell_type": "code",
   "execution_count": null,
   "metadata": {
    "collapsed": true
   },
   "outputs": [],
   "source": []
  }
 ],
 "metadata": {
  "kernelspec": {
   "display_name": "Python 2",
   "language": "python",
   "name": "python2"
  },
  "language_info": {
   "codemirror_mode": {
    "name": "ipython",
    "version": 2
   },
   "file_extension": ".py",
   "mimetype": "text/x-python",
   "name": "python",
   "nbconvert_exporter": "python",
   "pygments_lexer": "ipython2",
   "version": "2.7.10"
  }
 },
 "nbformat": 4,
 "nbformat_minor": 0
}
