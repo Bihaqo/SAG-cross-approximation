{
 "cells": [
  {
   "cell_type": "code",
   "execution_count": 48,
   "metadata": {
    "collapsed": false
   },
   "outputs": [
    {
     "name": "stdout",
     "output_type": "stream",
     "text": [
      "our approx 0.26790134982\n",
      "perfect approx 3.12562421982e-16\n"
     ]
    }
   ],
   "source": [
    "import numpy as np\n",
    "import tt\n",
    "import tt.cross\n",
    "n_objects = 5\n",
    "n_features = 3\n",
    "batch_size = 2\n",
    "# Initialize.\n",
    "a = np.zeros((n_objects, batch_size))\n",
    "v = np.eye(batch_size, n_features)\n",
    "direction = np.zeros(n_features)\n",
    "# Debugging.\n",
    "g = np.zeros((n_objects, n_features))\n",
    "######\n",
    "\n",
    "# On each iteration.\n",
    "curr_objects = np.random.choice(n_objects, batch_size, replace=False)\n",
    "# Compute gradients in the chosen objects.\n",
    "new_g = np.random.rand(curr_objects.shape[0], n_features)\n",
    "old_g = a[curr_objects, :].dot(v)\n",
    "delta_g = new_g - old_g\n",
    "direction += np.sum(delta_g, axis=0)\n",
    "# Update G (see A projector-splitting integrator for dynamical low-rank approximation).\n",
    "k1 = a\n",
    "k1[curr_objects, :] += delta_g.dot(v.T)\n",
    "u1, s_hat_1 = np.linalg.qr(k1)\n",
    "s_hat_1 -= u1[curr_objects, :].T.dot(delta_g).dot(v.T)\n",
    "l1 = v.T.dot(s_hat_1) + delta_g.T.dot(u1[curr_objects, :])\n",
    "v1, s1 = np.linalg.qr(l1)\n",
    "a = u1.dot(s1)\n",
    "v = v1.copy().T\n",
    "# Debugging.\n",
    "g[curr_objects, :] += delta_g\n",
    "######\n",
    "\n",
    "# Debugging.\n",
    "print 'our approx', np.linalg.norm(g - a.dot(v)) / np.linalg.norm(g)\n",
    "u, s, v = np.linalg.svd(g)\n",
    "u = u[:, :batch_size]\n",
    "s = s[:batch_size]\n",
    "v = v[:batch_size, :]\n",
    "a = u.dot(np.diag(s))\n",
    "print 'perfect approx', np.linalg.norm(g - a.dot(v)) / np.linalg.norm(g)"
   ]
  },
  {
   "cell_type": "code",
   "execution_count": null,
   "metadata": {
    "collapsed": true
   },
   "outputs": [],
   "source": []
  }
 ],
 "metadata": {
  "kernelspec": {
   "display_name": "Python 2",
   "language": "python",
   "name": "python2"
  },
  "language_info": {
   "codemirror_mode": {
    "name": "ipython",
    "version": 2
   },
   "file_extension": ".py",
   "mimetype": "text/x-python",
   "name": "python",
   "nbconvert_exporter": "python",
   "pygments_lexer": "ipython2",
   "version": "2.7.10"
  }
 },
 "nbformat": 4,
 "nbformat_minor": 0
}
