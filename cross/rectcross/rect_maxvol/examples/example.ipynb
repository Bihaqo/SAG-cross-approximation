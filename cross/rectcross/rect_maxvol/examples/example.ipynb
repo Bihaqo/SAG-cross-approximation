{
 "metadata": {
  "name": "",
  "signature": "sha256:4d6d28eb0a670e5a6d3e4904fa3bc4152d3af71365f3b44789bb4489a2971ca2"
 },
 "nbformat": 3,
 "nbformat_minor": 0,
 "worksheets": [
  {
   "cells": [
    {
     "cell_type": "code",
     "collapsed": false,
     "input": [
      "# loading necessary modules\n",
      "import numpy as np\n",
      "import sys\n",
      "import os\n",
      "os.environ['OMP_NUM_THREADS'] = '1'\n",
      "os.environ['MKL_NUM_THREADS'] = '1'\n",
      "# setting path for compiled inplace but not installed module rect_maxvol\n",
      "sys.path.insert(0, '../')\n",
      "# loading rect_maxvol itself\n",
      "from rect_maxvol import rect_maxvol, rect_maxvol_qr, rect_maxvol_svd, maxvol, maxvol_qr, maxvol_svd"
     ],
     "language": "python",
     "metadata": {},
     "outputs": [],
     "prompt_number": 1
    },
    {
     "cell_type": "code",
     "collapsed": false,
     "input": [
      "# check maxvol, maxvol_qr and maxvol_svd with dtype=np.complex128\n",
      "np.random.seed(100)\n",
      "a = np.random.rand(1000, 30, 2).view(dtype=np.complex128)[:,:,0]\n",
      "\n",
      "print('----------MAXVOL--------------')\n",
      "piv, C = maxvol(a, 1.0)\n",
      "print('relative maxvol approximation error: {}'.format(np.linalg.norm(a-C.dot(a[piv]), 2)/np.linalg.norm(a, 2)))\n",
      "print('Chebyshev norm of matrix C: {}'.format(abs(C).max()))\n",
      "\n",
      "piv, C = maxvol(a, 1.05)\n",
      "print('relative maxvol approximation error: {}'.format(np.linalg.norm(a-C.dot(a[piv]), 2)/np.linalg.norm(a, 2)))\n",
      "print('Chebyshev norm of matrix C: {}'.format(abs(C).max()))\n",
      "\n",
      "piv, C = maxvol(a, 1.10)\n",
      "print('relative maxvol approximation error: {}'.format(np.linalg.norm(a-C.dot(a[piv]), 2)/np.linalg.norm(a, 2)))\n",
      "print('Chebyshev norm of matrix C: {}'.format(abs(C).max()))\n",
      "\n",
      "print('----------MAXVOL_QR--------------')\n",
      "piv, C = maxvol_qr(a, 1.0)\n",
      "print('relative maxvol approximation error: {}'.format(np.linalg.norm(a-C.dot(a[piv]), 2)/np.linalg.norm(a, 2)))\n",
      "print('Chebyshev norm of matrix C: {}'.format(abs(C).max()))\n",
      "\n",
      "piv, C = maxvol_qr(a, 1.05)\n",
      "print('relative maxvol approximation error: {}'.format(np.linalg.norm(a-C.dot(a[piv]), 2)/np.linalg.norm(a, 2)))\n",
      "print('Chebyshev norm of matrix C: {}'.format(abs(C).max()))\n",
      "\n",
      "piv, C = maxvol_qr(a, 1.10)\n",
      "print('relative maxvol approximation error: {}'.format(np.linalg.norm(a-C.dot(a[piv]), 2)/np.linalg.norm(a, 2)))\n",
      "print('Chebyshev norm of matrix C: {}'.format(abs(C).max()))\n",
      "\n",
      "print('----------MAXVOL_SVD--------------')\n",
      "piv, C = maxvol_svd(a, svd_tol = 1e-1, tol = 1.0, job = 'R')\n",
      "print('relative maxvol approximation error: {}'.format(np.linalg.norm(a-C.dot(a[piv]), 2)/np.linalg.norm(a, 2)))\n",
      "print('Chebyshev norm of matrix C: {}'.format(abs(C).max()))\n",
      "\n",
      "piv, C = maxvol_svd(a, svd_tol = 1e-1, tol = 1.05, job = 'R')\n",
      "print('relative maxvol approximation error: {}'.format(np.linalg.norm(a-C.dot(a[piv]), 2)/np.linalg.norm(a, 2)))\n",
      "print('Chebyshev norm of matrix C: {}'.format(abs(C).max()))\n",
      "\n",
      "piv, C = maxvol_svd(a, svd_tol = 1e-1, tol = 1.10, job = 'R')\n",
      "print('relative maxvol approximation error: {}'.format(np.linalg.norm(a-C.dot(a[piv]), 2)/np.linalg.norm(a, 2)))\n",
      "print('Chebyshev norm of matrix C: {}'.format(abs(C).max()))"
     ],
     "language": "python",
     "metadata": {},
     "outputs": [
      {
       "output_type": "stream",
       "stream": "stdout",
       "text": [
        "----------MAXVOL--------------\n",
        "relative maxvol approximation error: 1.1169921841e-15\n",
        "Chebyshev norm of matrix C: 1.0\n",
        "relative maxvol approximation error: 1.20365952104e-15"
       ]
      },
      {
       "output_type": "stream",
       "stream": "stdout",
       "text": [
        "\n",
        "Chebyshev norm of matrix C: 1.0464068226\n",
        "relative maxvol approximation error: 9.97068873972e-16\n",
        "Chebyshev norm of matrix C: 1.07853911436\n",
        "----------MAXVOL_QR--------------\n",
        "relative maxvol approximation error: 1.42187726922e-15"
       ]
      },
      {
       "output_type": "stream",
       "stream": "stdout",
       "text": [
        "\n",
        "Chebyshev norm of matrix C: 1.0\n",
        "relative maxvol approximation error: 1.45909734856e-15\n",
        "Chebyshev norm of matrix C: 1.0464068226\n",
        "relative maxvol approximation error: 1.10355731792e-15\n",
        "Chebyshev norm of matrix C: 1.07853911436\n",
        "----------MAXVOL_SVD--------------\n",
        "relative maxvol approximation error: 0.246839403405"
       ]
      },
      {
       "output_type": "stream",
       "stream": "stdout",
       "text": [
        "\n",
        "Chebyshev norm of matrix C: 1.0\n",
        "relative maxvol approximation error: 0.246839403405\n",
        "Chebyshev norm of matrix C: 1.0\n",
        "relative maxvol approximation error: 0.25484511962\n",
        "Chebyshev norm of matrix C: 1.06824913975\n"
       ]
      }
     ],
     "prompt_number": 2
    },
    {
     "cell_type": "code",
     "collapsed": false,
     "input": [
      "# check rect_maxvol, rect_maxvol_qr and rect_maxvol_svd with dtype=np.complex128\n",
      "\n",
      "print('----------RECT_MAXVOL--------------')\n",
      "piv, C = rect_maxvol(a, 1.0)\n",
      "print('relative maxvol approximation error: {}'.format(np.linalg.norm(a-C.dot(a[piv]), 2)/np.linalg.norm(a, 2)))\n",
      "print('maximum euclidian norm of row in matrix C: {}'.format(max([np.linalg.norm(C[i], 2) for i in range(1000)])))\n",
      "\n",
      "piv, C = rect_maxvol(a, 1.5)\n",
      "print('relative maxvol approximation error: {}'.format(np.linalg.norm(a-C.dot(a[piv]), 2)/np.linalg.norm(a, 2)))\n",
      "print('maximum euclidian norm of row in matrix C: {}'.format(max([np.linalg.norm(C[i], 2) for i in range(1000)])))\n",
      "\n",
      "piv, C = rect_maxvol(a, 2.0)\n",
      "print('relative maxvol approximation error: {}'.format(np.linalg.norm(a-C.dot(a[piv]), 2)/np.linalg.norm(a, 2)))\n",
      "print('maximum euclidian norm of row in matrix C: {}'.format(max([np.linalg.norm(C[i], 2) for i in range(1000)])))\n",
      "\n",
      "print('----------RECT_MAXVOL_QR--------------')\n",
      "piv, C = rect_maxvol_qr(a, 1.0)\n",
      "print('relative maxvol approximation error: {}'.format(np.linalg.norm(a-C.dot(a[piv]), 2)/np.linalg.norm(a, 2)))\n",
      "print('maximum euclidian norm of row in matrix C: {}'.format(max([np.linalg.norm(C[i], 2) for i in range(1000)])))\n",
      "\n",
      "piv, C = rect_maxvol_qr(a, 1.5)\n",
      "print('relative maxvol approximation error: {}'.format(np.linalg.norm(a-C.dot(a[piv]), 2)/np.linalg.norm(a, 2)))\n",
      "print('maximum euclidian norm of row in matrix C: {}'.format(max([np.linalg.norm(C[i], 2) for i in range(1000)])))\n",
      "\n",
      "piv, C = rect_maxvol_qr(a, 2.0)\n",
      "print('relative maxvol approximation error: {}'.format(np.linalg.norm(a-C.dot(a[piv]), 2)/np.linalg.norm(a, 2)))\n",
      "print('maximum euclidian norm of row in matrix C: {}'.format(max([np.linalg.norm(C[i], 2) for i in range(1000)])))\n",
      "\n",
      "\n",
      "print('----------RECT_MAXVOL_SVD--------------')\n",
      "piv, C = rect_maxvol_svd(a, svd_tol = 1e-1, tol = 1.0, job = 'R')\n",
      "print('relative maxvol approximation error: {}'.format(np.linalg.norm(a-C.dot(a[piv]), 2)/np.linalg.norm(a, 2)))\n",
      "print('maximum euclidian norm of row in matrix C: {}'.format(max([np.linalg.norm(C[i], 2) for i in range(1000)])))\n",
      "\n",
      "piv, C = rect_maxvol_svd(a, svd_tol = 1e-1, tol = 1.5, job = 'R')\n",
      "print('relative maxvol approximation error: {}'.format(np.linalg.norm(a-C.dot(a[piv]), 2)/np.linalg.norm(a, 2)))\n",
      "print('maximum euclidian norm of row in matrix C: {}'.format(max([np.linalg.norm(C[i], 2) for i in range(1000)])))\n",
      "\n",
      "piv, C = rect_maxvol_svd(a, svd_tol = 1e-1, tol = 2.0, job = 'R')\n",
      "print('relative maxvol approximation error: {}'.format(np.linalg.norm(a-C.dot(a[piv]), 2)/np.linalg.norm(a, 2)))\n",
      "print('maximum euclidian norm of row in matrix C: {}'.format(max([np.linalg.norm(C[i], 2) for i in range(1000)])))"
     ],
     "language": "python",
     "metadata": {},
     "outputs": [
      {
       "output_type": "stream",
       "stream": "stdout",
       "text": [
        "----------RECT_MAXVOL--------------\n",
        "relative maxvol approximation error: 7.54286006916e-16\n",
        "maximum euclidian norm of row in matrix C: 1.0\n",
        "relative maxvol approximation error: 7.8885418046e-16"
       ]
      },
      {
       "output_type": "stream",
       "stream": "stdout",
       "text": [
        "\n",
        "maximum euclidian norm of row in matrix C: 1.47552960395\n",
        "relative maxvol approximation error: 7.08572536591e-16\n",
        "maximum euclidian norm of row in matrix C: 1.98552688328"
       ]
      },
      {
       "output_type": "stream",
       "stream": "stdout",
       "text": [
        "\n",
        "----------RECT_MAXVOL_QR--------------\n",
        "relative maxvol approximation error: 1.07749427297e-15\n",
        "maximum euclidian norm of row in matrix C: 1.0"
       ]
      },
      {
       "output_type": "stream",
       "stream": "stdout",
       "text": [
        "\n",
        "relative maxvol approximation error: 1.08883486393e-15\n",
        "maximum euclidian norm of row in matrix C: 1.47552960395\n",
        "relative maxvol approximation error: 1.05385115169e-15"
       ]
      },
      {
       "output_type": "stream",
       "stream": "stdout",
       "text": [
        "\n",
        "maximum euclidian norm of row in matrix C: 1.98552688328\n",
        "----------RECT_MAXVOL_SVD--------------\n",
        "identity_submatrix=True\n",
        "relative maxvol approximation error: 0.144971725468\n",
        "maximum euclidian norm of row in matrix C: 1.0"
       ]
      },
      {
       "output_type": "stream",
       "stream": "stdout",
       "text": [
        "\n",
        "identity_submatrix=True\n",
        "relative maxvol approximation error: 0.188467784134\n",
        "maximum euclidian norm of row in matrix C: 1.40581472836\n",
        "identity_submatrix=True\n",
        "relative maxvol approximation error: 0.226263343861\n",
        "maximum euclidian norm of row in matrix C: 1.85668430673"
       ]
      },
      {
       "output_type": "stream",
       "stream": "stdout",
       "text": [
        "\n"
       ]
      }
     ],
     "prompt_number": 3
    },
    {
     "cell_type": "code",
     "collapsed": false,
     "input": [],
     "language": "python",
     "metadata": {},
     "outputs": []
    }
   ],
   "metadata": {}
  }
 ]
}