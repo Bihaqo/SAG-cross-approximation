{
 "cells": [
  {
   "cell_type": "code",
   "execution_count": null,
   "metadata": {
    "collapsed": true
   },
   "outputs": [],
   "source": [
    "\n",
    "def dummy_old_grad(obj_idx, new_grad):\n",
    "    rank = 500\n",
    "    old_grad = dummy_old_grad.g[obj_idx, :].copy()\n",
    "    dummy_old_grad.g[obj_idx, :] = new_grad\n",
    "    u, s, v = np.linalg.svd(g)\n",
    "    u = u[:, :rank]\n",
    "    s = s[:rank]\n",
    "    v = v[:rank, :]\n",
    "    dummy_old_grad.g = u.dot(np.diag(s)).dot(v)\n",
    "    return old_grad\n",
    "dummy_old_grad.g = np.zeros(n_objects, n_features)\n",
    "    \n",
    "    "
   ]
  }
 ],
 "metadata": {
  "kernelspec": {
   "display_name": "Python 2",
   "language": "python",
   "name": "python2"
  },
  "language_info": {
   "codemirror_mode": {
    "name": "ipython",
    "version": 2
   },
   "file_extension": ".py",
   "mimetype": "text/x-python",
   "name": "python",
   "nbconvert_exporter": "python",
   "pygments_lexer": "ipython2",
   "version": "2.7.10"
  }
 },
 "nbformat": 4,
 "nbformat_minor": 0
}
