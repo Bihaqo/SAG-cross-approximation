{
 "cells": [
  {
   "cell_type": "code",
   "execution_count": null,
   "metadata": {
    "collapsed": true
   },
   "outputs": [],
   "source": [
    "rank = 500\n",
    "\n",
    "def dummy_old_grad(obj_idx, new_grad):\n",
    "    old_grad = dummy_old_grad.g[obj_idx, :].copy()\n",
    "    dummy_old_grad.g[obj_idx, :] = new_grad.copy()\n",
    "    u, s, v = np.linalg.svd(g)\n",
    "    u = u[:, :rank]\n",
    "    s = s[:rank]\n",
    "    v = v[:rank, :]\n",
    "    dummy_old_grad.g = u.dot(np.diag(s)).dot(v)\n",
    "    return old_grad\n",
    "dummy_old_grad.g = np.zeros(n_objects, n_features)\n",
    "\n",
    "\n",
    "svd_size = 5000\n",
    "def folding_in_old_grad(obj_idx, new_grad):\n",
    "    if folding_in_old_grad.svd_is_ready:\n",
    "        old_grad = folding_in_old_grad.u[obj_idx, :].dot(folding_in_old_grad.v)\n",
    "        folding_in_old_grad.u[obj_idx, :] = new_grad.dot(folding_in_old_grad.v.T)\n",
    "    else:\n",
    "        if obj_idx in folding_in_old_grad.objects_seen:\n",
    "            g_part_idx = folding_in_old_grad.objects_seen.index(obj_idx)\n",
    "        else:\n",
    "            g_part_idx = folding_in_old_grad.n_objects_seen\n",
    "            folding_in_old_grad.objects_seen[g_part_idx] = obj_idx\n",
    "            folding_in_old_grad.n_objects_seen += 1\n",
    "        old_grad = folding_in_old_grad.g_part[g_part_idx, :].copy()\n",
    "        folding_in_old_grad.g_part[g_part_idx, :] = new_grad.copy()\n",
    "        if folding_in_old_grad.n_objects_seen >= svd_size:\n",
    "            u, s, v = np.linalg.svd(folding_in_old_grad.g_part)\n",
    "            u = u[:, :rank]\n",
    "            s = s[:rank]\n",
    "            v = v[:rank, :]\n",
    "            folding_in_old_grad.u = np.zeros(n_objects, rank)\n",
    "            folding_in_old_grad.u[folding_in_old_grad.objects_seen, :] = u.dot(np.diag(s))\n",
    "            folding_in_old_grad.v = v\n",
    "            folding_in_old_grad.svd_is_ready = True\n",
    "    return old_grad\n",
    "folding_in_old_grad.objects_seen = -1 * np.ones(svd_size)\n",
    "folding_in_old_grad.n_objects_seen = 0\n",
    "folding_in_old_grad.g_part = np.zeros(svd_size, rank)\n",
    "folding_in_old_grad.svd_is_ready = False\n",
    "\n",
    "\n",
    "    "
   ]
  }
 ],
 "metadata": {
  "kernelspec": {
   "display_name": "Python 2",
   "language": "python",
   "name": "python2"
  },
  "language_info": {
   "codemirror_mode": {
    "name": "ipython",
    "version": 2
   },
   "file_extension": ".py",
   "mimetype": "text/x-python",
   "name": "python",
   "nbconvert_exporter": "python",
   "pygments_lexer": "ipython2",
   "version": "2.7.10"
  }
 },
 "nbformat": 4,
 "nbformat_minor": 0
}
